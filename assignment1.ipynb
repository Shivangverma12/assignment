{
 "cells": [
  {
   "cell_type": "code",
   "execution_count": 1,
   "id": "f50f0482-a986-40c1-8ff0-fd87046463f5",
   "metadata": {},
   "outputs": [
    {
     "name": "stdout",
     "output_type": "stream",
     "text": [
      "1\n",
      "2\n",
      "3\n",
      "4\n",
      "5\n",
      "6\n",
      "7\n",
      "8\n",
      "9\n",
      "10\n",
      "shivang\n",
      "shivang\n",
      "shivang\n",
      "shivang\n",
      "shivang\n",
      "shivang\n",
      "shivang\n",
      "shivang\n",
      "shivang\n",
      "shivang\n"
     ]
    }
   ],
   "source": [
    "#QUES 1:- PROGRAM\n",
    "\n",
    "#For loop is used when the number of iterations is already known.\n",
    "for i in range(1,11):\n",
    "    print(i)\n",
    "#While loop is used when the number of iterations is already unknown.\n",
    "a = 1\n",
    "while a<=10:\n",
    "    print(\"shivang\")\n",
    "    a = a+1"
   ]
  },
  {
   "cell_type": "code",
   "execution_count": 2,
   "id": "d532b5c6-d6ac-4b78-918a-917e39662aad",
   "metadata": {},
   "outputs": [
    {
     "name": "stdout",
     "output_type": "stream",
     "text": [
      "The sum of first 10 natural number is  55\n",
      "The product of first 10 natural number is  3628800\n"
     ]
    }
   ],
   "source": [
    "#QUES 2:- PROGRAM\n",
    "#Program for first 10 natural numbers to print sum or product by for loop.\n",
    "\n",
    "sum=0\n",
    "product=1\n",
    "\n",
    "for i in range(1,11):\n",
    "    sum = sum+i\n",
    "    product = product*i\n",
    "\n",
    "print(\"The sum of first 10 natural number is \",sum)\n",
    "print(\"The product of first 10 natural number is \",product)\n"
   ]
  },
  {
   "cell_type": "code",
   "execution_count": 3,
   "id": "8783c1da-1eda-4325-9742-ef4e4676a919",
   "metadata": {},
   "outputs": [
    {
     "name": "stdout",
     "output_type": "stream",
     "text": [
      "the sum of the first 10 number is  55\n",
      "the product of the first 10 numebr is  3628800\n"
     ]
    }
   ],
   "source": [
    "#QUES 2:- PROGRAM\n",
    "#Program for first 10 natural numbers to print sum or product by while loop.\n",
    "\n",
    "sum1 = 0\n",
    "product1 = 1\n",
    "i = 1\n",
    "\n",
    "while i<=10:\n",
    "    sum1 = sum1+i\n",
    "    product1 = product1*i\n",
    "    i = i+1\n",
    "print(\"the sum of the first 10 number is \",sum1)\n",
    "print(\"the product of the first 10 numebr is \",product1)\n",
    "\n",
    "\n",
    "    "
   ]
  },
  {
   "cell_type": "code",
   "execution_count": 2,
   "id": "b4390bdc-c137-4db5-98f8-725c837e3cde",
   "metadata": {},
   "outputs": [
    {
     "name": "stdin",
     "output_type": "stream",
     "text": [
      "enter the number of units:  310\n"
     ]
    },
    {
     "name": "stdout",
     "output_type": "stream",
     "text": [
      "Total electricity bill: Rs. 2250.0\n"
     ]
    }
   ],
   "source": [
    "#QUES 3:- PROGRAM\n",
    "#Create a electricity bill \n",
    "units=int(input(\"enter the number of units: \"))\n",
    "\n",
    "# for less then 100 or equal to 100 units\n",
    "if units<=100:\n",
    "    due=units*4.5\n",
    "#for 100 above or less then 200 units\n",
    "elif units<=200:\n",
    "    due=100*4.5+(units - 100)*6\n",
    "#for 200 above and less then 300 units\n",
    "elif units<=300:\n",
    "    due=100*4.5+100*6+(units - 200)*10\n",
    "#for 300 above\n",
    "else:\n",
    "    due=100*4.5+100*6+100*10+(units - 300)*20\n",
    "print(\"Total electricity bill: Rs.\", due)"
   ]
  },
  {
   "cell_type": "code",
   "execution_count": 3,
   "id": "271e3681-d84c-4371-87b8-ba9556ea2e5c",
   "metadata": {},
   "outputs": [
    {
     "name": "stdout",
     "output_type": "stream",
     "text": [
      "[2, 4, 5, 6, 8, 10, 12, 14, 15, 16, 18, 20, 22, 24, 25, 26, 28, 30, 32, 34, 35, 36, 38, 40, 42, 44, 45, 46, 48, 50, 52, 54, 55, 56, 58, 60, 62, 64, 65, 66, 68, 70, 72, 74, 75, 76, 78, 80, 82, 84, 85, 86, 88, 90, 92, 94, 95, 96, 98, 100]\n"
     ]
    }
   ],
   "source": [
    "#QUES 4:- PROGRAM\n",
    "#list with for loop\n",
    "Cubes=[]\n",
    "\n",
    "for i in range(1,101):\n",
    "    Cube=i**3\n",
    "    if Cube%4==0 or Cube%5==0:\n",
    "        Cubes.append(i)\n",
    "print(Cubes)"
   ]
  },
  {
   "cell_type": "code",
   "execution_count": 4,
   "id": "1fa88a66-f9df-4688-94c2-4ed6f4d4045c",
   "metadata": {},
   "outputs": [
    {
     "name": "stdout",
     "output_type": "stream",
     "text": [
      "[2, 4, 5, 6, 8, 10, 12, 14, 15, 16, 18, 20, 22, 24, 25, 26, 28, 30, 32, 34, 35, 36, 38, 40, 42, 44, 45, 46, 48, 50, 52, 54, 55, 56, 58, 60, 62, 64, 65, 66, 68, 70, 72, 74, 75, 76, 78, 80, 82, 84, 85, 86, 88, 90, 92, 94, 95, 96, 98, 100]\n"
     ]
    }
   ],
   "source": [
    "#QUES 4:- PROGRAM\n",
    "# List with while loop\n",
    "cubes=[]\n",
    "num=1\n",
    "\n",
    "while num <=100:\n",
    "    cube = num ** 3\n",
    "    if cube % 4 == 0 or cube % 5 == 0:\n",
    "        cubes.append(num)\n",
    "    num += 1\n",
    "print(cubes)"
   ]
  },
  {
   "cell_type": "code",
   "execution_count": 5,
   "id": "76675741-a40a-40ff-86cf-26057f0027c5",
   "metadata": {},
   "outputs": [
    {
     "name": "stdout",
     "output_type": "stream",
     "text": [
      "the total number of vowels in string is  12\n"
     ]
    }
   ],
   "source": [
    "#QUES 5:- PROGRAM\n",
    "string=\"i want to become a data scientist\"\n",
    "\n",
    "vowel_count=0\n",
    "vowels=['a','e','i','o','u']\n",
    "\n",
    "for i in string:\n",
    "    if i in vowels:\n",
    "        vowel_count = vowel_count+1\n",
    "print(\"the total number of vowels in string is \",vowel_count)"
   ]
  },
  {
   "cell_type": "code",
   "execution_count": null,
   "id": "26bcfd6c-9e10-492f-81aa-aa6a5c583dd9",
   "metadata": {},
   "outputs": [],
   "source": []
  }
 ],
 "metadata": {
  "kernelspec": {
   "display_name": "Python 3 (ipykernel)",
   "language": "python",
   "name": "python3"
  },
  "language_info": {
   "codemirror_mode": {
    "name": "ipython",
    "version": 3
   },
   "file_extension": ".py",
   "mimetype": "text/x-python",
   "name": "python",
   "nbconvert_exporter": "python",
   "pygments_lexer": "ipython3",
   "version": "3.10.8"
  }
 },
 "nbformat": 4,
 "nbformat_minor": 5
}
